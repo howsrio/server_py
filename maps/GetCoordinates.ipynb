{
 "cells": [
  {
   "cell_type": "code",
   "execution_count": 1,
   "metadata": {},
   "outputs": [
    {
     "name": "stdout",
     "output_type": "stream",
     "text": [
      "CSV 파일에 좌표가 추가되었습니다.\n"
     ]
    }
   ],
   "source": [
    "import requests\n",
    "import pandas as pd\n",
    "\n",
    "KAKAO_API_KEY = \"4f040348a11373f7f6d1cdae6778fd0f\"  # 자신의 카카오 API 키로 교체\n",
    "\n",
    "# 카카오맵 API를 이용해 지하철역의 위도와 경도 가져오기\n",
    "def get_coordinates(station_name):\n",
    "    url = \"https://dapi.kakao.com/v2/local/search/keyword.json\"\n",
    "    headers = {\"Authorization\": f\"KakaoAK {KAKAO_API_KEY}\"}\n",
    "    params = {\n",
    "        \"query\": station_name,  # 지하철역 이름\n",
    "        \"category_group_code\": \"SW8\",  # 지하철역 카테고리 코드\n",
    "    }\n",
    "    \n",
    "    response = requests.get(url, headers=headers, params=params)\n",
    "    data = response.json()\n",
    "    \n",
    "    if data.get(\"documents\"):\n",
    "        # 첫 번째 결과의 위도와 경도를 반환\n",
    "        station = data[\"documents\"][0]\n",
    "        latitude = station[\"y\"]\n",
    "        longitude = station[\"x\"]\n",
    "        return latitude, longitude\n",
    "    else:\n",
    "        # 만약 결과가 없다면 None을 반환\n",
    "        return None, None\n",
    "\n",
    "# CSV 파일에서 지하철역 데이터 읽어오기\n",
    "df = pd.read_csv('../../Data/maps/subway_stations.csv')  # 파일 이름에 맞게 수정\n",
    "\n",
    "# 각 지하철역에 대한 위도와 경도 가져오기\n",
    "coordinates = []\n",
    "for station_name in df['전철역명']:\n",
    "    latitude, longitude = get_coordinates(station_name)\n",
    "    coordinates.append((latitude, longitude))\n",
    "\n",
    "# 데이터프레임에 좌표 추가\n",
    "df['위도'] = [coord[0] for coord in coordinates]\n",
    "df['경도'] = [coord[1] for coord in coordinates]\n",
    "\n",
    "# 결과를 새로운 CSV 파일로 저장\n",
    "df.to_csv('../../Data/maps/subway_stations_with_coordinates.csv', index=False, encoding='utf-8')\n",
    "\n",
    "print(\"CSV 파일에 좌표가 추가되었습니다.\")\n"
   ]
  }
 ],
 "metadata": {
  "kernelspec": {
   "display_name": "Python 3",
   "language": "python",
   "name": "python3"
  },
  "language_info": {
   "codemirror_mode": {
    "name": "ipython",
    "version": 3
   },
   "file_extension": ".py",
   "mimetype": "text/x-python",
   "name": "python",
   "nbconvert_exporter": "python",
   "pygments_lexer": "ipython3",
   "version": "3.12.5"
  }
 },
 "nbformat": 4,
 "nbformat_minor": 2
}
